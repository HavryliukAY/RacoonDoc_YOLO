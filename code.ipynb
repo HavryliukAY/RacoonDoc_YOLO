{
 "cells": [
  {
   "cell_type": "code",
   "execution_count": 1,
   "metadata": {},
   "outputs": [
    {
     "name": "stderr",
     "output_type": "stream",
     "text": [
      "YOLOv5 🚀 v7.0-123-gc61d2a7 Python-3.9.13 torch-2.0.0 CPU\n"
     ]
    },
    {
     "name": "stdout",
     "output_type": "stream",
     "text": [
      "Setup complete ✅ (8 CPUs, 16.0 GB RAM, 232.0/926.4 GB disk)\n"
     ]
    }
   ],
   "source": [
    "%cd /Users/dreamstore/Downloads/RacoonDoc/Code_2/yolov5\n",
    "import torch\n",
    "from yolov5 import utils\n",
    "import torch\n",
    "import utils\n",
    "from IPython import display\n",
    "from IPython.display import clear_output\n",
    "from pathlib import Path\n",
    "import yaml\n",
    "import matplotlib.pyplot as plt\n",
    "import matplotlib.image as mpimg\n",
    "import glob\n",
    "\n",
    "\n",
    "%matplotlib inline\n",
    "display = utils.notebook_init()"
   ]
  },
  {
   "cell_type": "code",
   "execution_count": 2,
   "metadata": {},
   "outputs": [],
   "source": [
    "def create_data_directories(data_name):\n",
    "    Path(f\"../datasets/{data_name}/images/train\").mkdir(parents=True, exist_ok=True)\n",
    "    Path(f\"../datasets/{data_name}/images/valid\").mkdir(parents=True, exist_ok=True)\n",
    "    Path(f\"../datasets/{data_name}/images/test\").mkdir(parents=True, exist_ok=True)\n",
    "    Path(f\"../datasets/{data_name}/labels/train\").mkdir(parents=True, exist_ok=True)\n",
    "    Path(f\"../datasets/{data_name}/labels/valid\").mkdir(parents=True, exist_ok=True)\n",
    "    Path(f\"../datasets/{data_name}/labels/test\").mkdir(parents=True, exist_ok=True)\n",
    "\n",
    "create_data_directories(\"Auchan's data\")"
   ]
  },
  {
   "cell_type": "code",
   "execution_count": 12,
   "metadata": {},
   "outputs": [
    {
     "name": "stdout",
     "output_type": "stream",
     "text": [
      "train: /Users/dreamstore/Downloads/RacoonDoc/Code_2/datasets/Auchans_data/images/train\n",
      "val: /Users/dreamstore/Downloads/RacoonDoc/Code_2/datasets/Auchans_data/images/valid\n",
      "\n",
      "nc: 12\n",
      "names: ['Airplane','Car','Адреса доставки','Акт Надання Послуг','Загальна сума','Кому','Номер Заявки','ПДВ', 'Платник','Постачальник', 'Разом до сплати', 'разом без ПДВ']---------------------------------------------\n"
     ]
    }
   ],
   "source": [
    "!cat /Users/dreamstore/Downloads/RacoonDoc/Code_2/auchan_data.yaml\n",
    "print ('---------------------------------------------')"
   ]
  },
  {
   "cell_type": "code",
   "execution_count": 14,
   "metadata": {},
   "outputs": [],
   "source": [
    "!python train.py --batch 32 --epochs 150 --data '/Users/dreamstore/Downloads/RacoonDoc/Code_2/auchan_data.yaml' --weights 'yolov5s6.pt' --project 'runs_penguins' --name 'feature_extraction' --cache --freeze 12\n",
    "clear_output()"
   ]
  },
  {
   "cell_type": "code",
   "execution_count": null,
   "metadata": {},
   "outputs": [],
   "source": [
    "display.Image(f\"runs_penguins/feature_extraction/results.png\")"
   ]
  },
  {
   "cell_type": "code",
   "execution_count": 2,
   "metadata": {},
   "outputs": [
    {
     "name": "stdout",
     "output_type": "stream",
     "text": [
      "\u001b[34m\u001b[1mdetect: \u001b[0mweights=['/Users/dreamstore/Downloads/RacoonDoc/Code_2/yolov5/runs_penguins/feature_extraction/weights/best.pt'], source=/Users/dreamstore/Downloads/RacoonDoc/Code_2/datasets/Auchans_data/images/valid, data=data/coco128.yaml, imgsz=[640, 640], conf_thres=0.65, iou_thres=0.45, max_det=1000, device=, view_img=False, save_txt=True, save_conf=True, save_crop=False, nosave=False, classes=None, agnostic_nms=False, augment=True, visualize=False, update=False, project=runs_penguins, name=/Users/dreamstore/Downloads/RacoonDoc/Code_2/yolov5/runs_penguins/detect_test, exist_ok=True, line_thickness=3, hide_labels=False, hide_conf=False, half=False, dnn=False, vid_stride=1\n",
      "YOLOv5 🚀 v7.0-123-gc61d2a7 Python-3.9.13 torch-2.0.0 CPU\n",
      "\n",
      "Fusing layers... \n",
      "[W NNPACK.cpp:64] Could not initialize NNPACK! Reason: Unsupported hardware.\n",
      "Model summary: 206 layers, 12350572 parameters, 0 gradients, 16.2 GFLOPs\n",
      "image 1/9 /Users/dreamstore/Downloads/RacoonDoc/Code_2/datasets/Auchans_data/images/valid/b6e5a24a-0001_24.jpg: 640x512 1 Загальна сума, 4 Платникs, 761.6ms\n",
      "image 2/9 /Users/dreamstore/Downloads/RacoonDoc/Code_2/datasets/Auchans_data/images/valid/d397a1c1-0001_9.jpg: 640x512 1 Загальна сума, 3 Платникs, 531.2ms\n",
      "image 3/9 /Users/dreamstore/Downloads/RacoonDoc/Code_2/datasets/Auchans_data/images/valid/ddf3bd60-0001_19.jpg: 640x512 1 Загальна сума, 535.6ms\n",
      "image 4/9 /Users/dreamstore/Downloads/RacoonDoc/Code_2/datasets/Auchans_data/images/valid/e45ce85c-0001_15.jpg: 640x512 1 Загальна сума, 545.1ms\n",
      "image 5/9 /Users/dreamstore/Downloads/RacoonDoc/Code_2/datasets/Auchans_data/images/valid/e5e96058-0001_12.jpg: 640x512 1 Загальна сума, 3 Платникs, 524.7ms\n",
      "image 6/9 /Users/dreamstore/Downloads/RacoonDoc/Code_2/datasets/Auchans_data/images/valid/eef7cceb-0001_3.jpg: 640x512 1 Загальна сума, 1 Платник, 528.4ms\n",
      "image 7/9 /Users/dreamstore/Downloads/RacoonDoc/Code_2/datasets/Auchans_data/images/valid/f6c6d760-0001_23.jpg: 640x512 1 Загальна сума, 2 Платникs, 549.7ms\n",
      "image 8/9 /Users/dreamstore/Downloads/RacoonDoc/Code_2/datasets/Auchans_data/images/valid/f8a37795-0001_6.jpg: 640x512 2 Загальна сумаs, 523.9ms\n",
      "image 9/9 /Users/dreamstore/Downloads/RacoonDoc/Code_2/datasets/Auchans_data/images/valid/fe68d863-0001_2.jpg: 640x512 1 Загальна сума, 1 Платник, 538.4ms\n",
      "Speed: 0.5ms pre-process, 559.9ms inference, 0.6ms NMS per image at shape (1, 3, 640, 640)\n",
      "Results saved to \u001b[1m/Users/dreamstore/Downloads/RacoonDoc/Code_2/yolov5/runs_penguins/detect_test\u001b[0m\n",
      "9 labels saved to /Users/dreamstore/Downloads/RacoonDoc/Code_2/yolov5/runs_penguins/detect_test/labels\n"
     ]
    }
   ],
   "source": [
    "!python detect.py --weights '/Users/dreamstore/Downloads/RacoonDoc/Code_2/yolov5/runs_penguins/feature_extraction/weights/best.pt'  --conf 0.65 --source '/Users/dreamstore/Downloads/RacoonDoc/Code_2/datasets/Auchans_data/images/valid' --project 'runs_penguins' --name '/Users/dreamstore/Downloads/RacoonDoc/Code_2/yolov5/runs_penguins/detect_test'  --augment --line=3 --save-txt --save-conf \n",
    "#clear_output()"
   ]
  },
  {
   "cell_type": "code",
   "execution_count": null,
   "metadata": {},
   "outputs": [],
   "source": []
  }
 ],
 "metadata": {
  "kernelspec": {
   "display_name": "Python 3",
   "language": "python",
   "name": "python3"
  },
  "language_info": {
   "codemirror_mode": {
    "name": "ipython",
    "version": 3
   },
   "file_extension": ".py",
   "mimetype": "text/x-python",
   "name": "python",
   "nbconvert_exporter": "python",
   "pygments_lexer": "ipython3",
   "version": "3.9.13"
  },
  "orig_nbformat": 4
 },
 "nbformat": 4,
 "nbformat_minor": 2
}
