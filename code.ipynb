{
 "cells": [
  {
   "cell_type": "code",
   "execution_count": 1,
   "metadata": {},
   "outputs": [
    {
     "name": "stderr",
     "output_type": "stream",
     "text": [
      "YOLOv5 🚀 v7.0-125-g84af3e0 Python-3.9.13 torch-2.0.0 CPU\n"
     ]
    },
    {
     "name": "stdout",
     "output_type": "stream",
     "text": [
      "Setup complete ✅ (8 CPUs, 16.0 GB RAM, 236.7/926.4 GB disk)\n"
     ]
    }
   ],
   "source": [
    "%cd /Users/dreamstore/Downloads/RacoonDoc/Code_2/yolov5\n",
    "import torch\n",
    "from yolov5 import utils\n",
    "import torch\n",
    "import utils\n",
    "from IPython import display\n",
    "from IPython.display import clear_output\n",
    "from pathlib import Path\n",
    "import yaml\n",
    "import matplotlib.pyplot as plt\n",
    "import matplotlib.image as mpimg\n",
    "import glob\n",
    "\n",
    "\n",
    "%matplotlib inline\n",
    "display = utils.notebook_init()"
   ]
  },
  {
   "cell_type": "code",
   "execution_count": 17,
   "metadata": {},
   "outputs": [
    {
     "name": "stdout",
     "output_type": "stream",
     "text": [
      "Note: you may need to restart the kernel to use updated packages.\n"
     ]
    }
   ],
   "source": [
    "%pip install -qr requirements.txt "
   ]
  },
  {
   "cell_type": "code",
   "execution_count": 2,
   "metadata": {},
   "outputs": [],
   "source": [
    "def create_data_directories(data_name):\n",
    "    Path(f\"../datasets/{data_name}/images/train\").mkdir(parents=True, exist_ok=True)\n",
    "    Path(f\"../datasets/{data_name}/images/valid\").mkdir(parents=True, exist_ok=True)\n",
    "    Path(f\"../datasets/{data_name}/images/test\").mkdir(parents=True, exist_ok=True)\n",
    "    Path(f\"../datasets/{data_name}/labels/train\").mkdir(parents=True, exist_ok=True)\n",
    "    Path(f\"../datasets/{data_name}/labels/valid\").mkdir(parents=True, exist_ok=True)\n",
    "    Path(f\"../datasets/{data_name}/labels/test\").mkdir(parents=True, exist_ok=True)\n",
    "\n",
    "create_data_directories(\"Auchan's data\")"
   ]
  },
  {
   "cell_type": "code",
   "execution_count": 2,
   "metadata": {},
   "outputs": [
    {
     "name": "stdout",
     "output_type": "stream",
     "text": [
      "train: /Users/dreamstore/Downloads/RacoonDoc/Code_2/auchan_all/images/train\n",
      "val: /Users/dreamstore/Downloads/RacoonDoc/Code_2/auchan_all/images/val\n",
      "\n",
      "nc: 15\n",
      "names: ['Адреса Доставки','Всього','Загальна Сума','Кому','Номер Заявки','ПДВ','Платник','Покупець','Постачальник','Разом','Разом без ПДВ','Разом до сплати','Сума ПДВ','У тому числі ПДВ','Усього з ПДВ']---------------------------------------------\n"
     ]
    }
   ],
   "source": [
    "!cat /Users/dreamstore/Downloads/RacoonDoc/Code_2/auchan_data.yaml\n",
    "print ('---------------------------------------------')\n",
    "# !cat /Users/dreamstore/Downloads/RacoonDoc/Code_2/auchan_values.yaml\n",
    "# print ('---------------------------------------------')"
   ]
  },
  {
   "cell_type": "code",
   "execution_count": 3,
   "metadata": {},
   "outputs": [],
   "source": [
    "\n",
    "!python3 train.py --batch 32 --epochs 150 --data '/Users/dreamstore/Downloads/RacoonDoc/Code_2/auchan_data.yaml' --weights 'yolov5s6.pt' --project 'auchan_project_all' --name 'feature_extraction' --cache --freeze 12\n",
    "#clear_output()\n",
    "# %cd /Users/dreamstore/Downloads/RacoonDoc/Code_2/yolov5\n",
    "# !python train.py --batch 4 --epochs 150 --data '/Users/dreamstore/Downloads/RacoonDoc/Code_2/auchan_values.yaml' --weights 'yolov5s6.pt' --project 'auchan_project_values' --name 'feature_extraction' --cache --freeze 12\n",
    "# #clear_output()\n"
   ]
  },
  {
   "cell_type": "code",
   "execution_count": 36,
   "metadata": {},
   "outputs": [],
   "source": [
    "!python3 train.py --hyp '/Users/dreamstore/Downloads/RacoonDoc/Code_2/yolov5/data/hyps/hyp.finetune.yaml' --batch 4 --epochs 100 --data '/Users/dreamstore/Downloads/RacoonDoc/Code_2/auchan_values.yaml' --weights '/Users/dreamstore/Downloads/RacoonDoc/Code_2/yolov5/auchan_project/feature_extraction2/weights/best.pt' --project 'auchan_project' --name 'fine-tuning' --cache\n",
    "clear_output()"
   ]
  },
  {
   "cell_type": "code",
   "execution_count": 4,
   "metadata": {},
   "outputs": [],
   "source": [
    "display.Image(f\"auchan_project_all/feature_extraction/results.png\")"
   ]
  },
  {
   "cell_type": "code",
   "execution_count": 40,
   "metadata": {},
   "outputs": [
    {
     "name": "stdout",
     "output_type": "stream",
     "text": [
      "\u001b[34m\u001b[1mdetect: \u001b[0mweights=['/Users/dreamstore/Downloads/RacoonDoc/Code_2/yolov5/auchan_project/feature_extraction3/weights/best.pt'], source=/Users/dreamstore/Downloads/RacoonDoc/Code_2/auchan_data/images/valid, data=data/coco128.yaml, imgsz=[640, 640], conf_thres=0.3, iou_thres=0.45, max_det=1000, device=, view_img=False, save_txt=True, save_conf=True, save_crop=False, nosave=False, classes=None, agnostic_nms=False, augment=True, visualize=False, update=False, project=Auchan_results, name=/Users/dreamstore/Downloads/RacoonDoc/Code_2/yolov5/Auchan_results/detect_test, exist_ok=False, line_thickness=3, hide_labels=False, hide_conf=False, half=False, dnn=False, vid_stride=1\n",
      "YOLOv5 🚀 v7.0-125-g84af3e0 Python-3.9.13 torch-2.0.0 CPU\n",
      "\n",
      "Fusing layers... \n",
      "[W NNPACK.cpp:64] Could not initialize NNPACK! Reason: Unsupported hardware.\n",
      "Model summary: 206 layers, 12342868 parameters, 0 gradients, 16.2 GFLOPs\n",
      "image 1/5 /Users/dreamstore/Downloads/RacoonDoc/Code_2/auchan_data/images/valid/b6e5a24a-0001_24.jpg: 640x512 1 Загальна сума, 745.0ms\n",
      "image 2/5 /Users/dreamstore/Downloads/RacoonDoc/Code_2/auchan_data/images/valid/d397a1c1-0001_9.jpg: 640x512 1 Загальна сума, 551.0ms\n",
      "image 3/5 /Users/dreamstore/Downloads/RacoonDoc/Code_2/auchan_data/images/valid/ddf3bd60-0001_19.jpg: 640x512 1 Загальна сума, 519.9ms\n",
      "image 4/5 /Users/dreamstore/Downloads/RacoonDoc/Code_2/auchan_data/images/valid/e45ce85c-0001_15.jpg: 640x512 1 Загальна сума, 518.8ms\n",
      "image 5/5 /Users/dreamstore/Downloads/RacoonDoc/Code_2/auchan_data/images/valid/e5e96058-0001_12.jpg: 640x512 1 Загальна сума, 519.3ms\n",
      "Speed: 0.7ms pre-process, 570.8ms inference, 0.7ms NMS per image at shape (1, 3, 640, 640)\n",
      "Results saved to \u001b[1m/Users/dreamstore/Downloads/RacoonDoc/Code_2/yolov5/Auchan_results/detect_test9\u001b[0m\n",
      "0 labels saved to /Users/dreamstore/Downloads/RacoonDoc/Code_2/yolov5/Auchan_results/detect_test9/labels\n"
     ]
    }
   ],
   "source": [
    "!python detect.py --weights '/Users/dreamstore/Downloads/RacoonDoc/Code_2/yolov5/auchan_project/feature_extraction3/weights/best.pt'  --conf 0.3 --source '/Users/dreamstore/Downloads/RacoonDoc/Code_2/auchan_data/images/valid' --project 'Auchan_results' --name '/Users/dreamstore/Downloads/RacoonDoc/Code_2/yolov5/Auchan_results/detect_test'  --augment --line=3 --save-txt --save-conf \n",
    "#clear_output()\n",
    "# !python detect.py --weights '/Users/dreamstore/Downloads/RacoonDoc/Code_2/yolov5/auchan_project/feature_extraction2/weights/best.pt'  --conf 0.5 --source '/Users/dreamstore/Downloads/RacoonDoc/Code_2/auchan_values/images/valid' --project 'Auchan_values_results' --name 'detect_test'  --augment --line=3 --save-txt --save-conf \n",
    "# #clear_output()"
   ]
  },
  {
   "cell_type": "code",
   "execution_count": null,
   "metadata": {},
   "outputs": [],
   "source": []
  }
 ],
 "metadata": {
  "kernelspec": {
   "display_name": "Python 3",
   "language": "python",
   "name": "python3"
  },
  "language_info": {
   "codemirror_mode": {
    "name": "ipython",
    "version": 3
   },
   "file_extension": ".py",
   "mimetype": "text/x-python",
   "name": "python",
   "nbconvert_exporter": "python",
   "pygments_lexer": "ipython3",
   "version": "3.9.13"
  },
  "orig_nbformat": 4
 },
 "nbformat": 4,
 "nbformat_minor": 2
}
